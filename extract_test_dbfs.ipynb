{
 "cells": [
  {
   "cell_type": "code",
   "execution_count": 0,
   "metadata": {
    "application/vnd.databricks.v1+cell": {
     "cellMetadata": {
      "byteLimit": 2048000,
      "rowLimit": 10000
     },
     "inputWidgets": {},
     "nuid": "a577f440-e798-4e41-9fcc-e4a40044954f",
     "showTitle": false,
     "tableResultSettingsMap": {},
     "title": ""
    }
   },
   "outputs": [],
   "source": [
    "from pyspark.sql import SparkSession, DataFrame\n",
    "from pyspark.sql.functions import when, col\n",
    "import pandas as pd\n",
    "\n",
    "def extract_spark():\n",
    "    url = \"https://raw.githubusercontent.com/fivethirtyeight/data/refs/heads/master/college-majors/grad-students.csv\"\n",
    "    FILESTORE_PATH = \"dbfs:/FileStore/mini_project11/\"  # Use /tmp as an alternative\n",
    "    dbfs_file_path = FILESTORE_PATH + \"/grad-students.csv\"\n",
    "    \n",
    "    # Initialize Spark session\n",
    "    spark = SparkSession.builder.appName(\"grade_student\").getOrCreate()\n",
    "    # Fetch the data\n",
    "    df = pd.read_csv(url)\n",
    "    \n",
    "    # Save the file locally in the cluster\n",
    "    local_path = \"/tmp/grad-students.csv\"\n",
    "    df.to_csv(local_path, index=False)\n",
    "    print(f\"CSV saved locally at {local_path}\")\n",
    "    # Create the DBFS directory if it doesn't exist\n",
    "    dbutils.fs.mkdirs(FILESTORE_PATH)\n",
    "    # Copy the local file to DBFS\n",
    "    dbutils.fs.cp(f\"file:{local_path}\", dbfs_file_path)\n",
    "    print(f\"CSV successfully saved to {dbfs_file_path}\")\n",
    "    \n",
    "    # Convert Pandas DataFrame to Spark DataFrame\n",
    "    spark_df = spark.createDataFrame(df)\n",
    "    \n",
    "    # To avoid mismatch between the schema of the existing Delta table and the DataFrame I am trying to append\n",
    "    spark.sql(\"DROP TABLE IF EXISTS grade_student_delta\")\n",
    "    # Write to Delta table (no need for explicit directory creation)\n",
    "    spark_df.write.format(\"delta\").mode(\"append\").saveAsTable(\"grade_student_delta\")\n",
    "    print(\"Data successfully written to Delta table 'grade_student_delta'\")\n",
    "    \n",
    "    return dbfs_file_path\n",
    "\n"
   ]
  },
  {
   "cell_type": "code",
   "execution_count": 0,
   "metadata": {
    "application/vnd.databricks.v1+cell": {
     "cellMetadata": {
      "byteLimit": 2048000,
      "rowLimit": 10000
     },
     "inputWidgets": {},
     "nuid": "74d61df4-e715-46d7-9719-7e64288ce491",
     "showTitle": false,
     "tableResultSettingsMap": {},
     "title": ""
    }
   },
   "outputs": [
    {
     "output_type": "stream",
     "name": "stdout",
     "output_type": "stream",
     "text": [
      "CSV saved locally at /tmp/grad-students.csv\nCSV successfully saved to dbfs:/FileStore/mini_project11//grad-students.csv\nData successfully written to Delta table 'grade_student_delta'\n"
     ]
    },
    {
     "output_type": "execute_result",
     "data": {
      "text/plain": [
       "'dbfs:/FileStore/mini_project11//grad-students.csv'"
      ]
     },
     "execution_count": 44,
     "metadata": {},
     "output_type": "execute_result"
    }
   ],
   "source": [
    "extract_spark()\n"
   ]
  },
  {
   "cell_type": "code",
   "execution_count": 0,
   "metadata": {
    "application/vnd.databricks.v1+cell": {
     "cellMetadata": {
      "byteLimit": 2048000,
      "rowLimit": 10000
     },
     "inputWidgets": {},
     "nuid": "5909c481-c5a3-441b-8a5d-8e1c4b4b7adf",
     "showTitle": false,
     "tableResultSettingsMap": {},
     "title": ""
    }
   },
   "outputs": [
    {
     "output_type": "display_data",
     "data": {
      "text/html": [
       "<style scoped>\n",
       "  .table-result-container {\n",
       "    max-height: 300px;\n",
       "    overflow: auto;\n",
       "  }\n",
       "  table, th, td {\n",
       "    border: 1px solid black;\n",
       "    border-collapse: collapse;\n",
       "  }\n",
       "  th, td {\n",
       "    padding: 5px;\n",
       "  }\n",
       "  th {\n",
       "    text-align: left;\n",
       "  }\n",
       "</style><div class='table-result-container'><table class='table-result'><thead style='background-color: white'><tr><th>path</th><th>name</th><th>size</th><th>modificationTime</th></tr></thead><tbody><tr><td>dbfs:/FileStore/mini_project11/Impact_of_Remote_Work_on_Mental_Health.csv</td><td>Impact_of_Remote_Work_on_Mental_Health.csv</td><td>598566</td><td>1731686709000</td></tr><tr><td>dbfs:/FileStore/mini_project11/WRRankingsWeek5.csv</td><td>WRRankingsWeek5.csv</td><td>10025</td><td>1731723705000</td></tr><tr><td>dbfs:/FileStore/mini_project11/ds_salaries.csv</td><td>ds_salaries.csv</td><td>210076</td><td>1731709340000</td></tr><tr><td>dbfs:/FileStore/mini_project11/event_times.csv</td><td>event_times.csv</td><td>6185</td><td>1731522970000</td></tr><tr><td>dbfs:/FileStore/mini_project11/extract_test_dbfs</td><td>extract_test_dbfs</td><td>17</td><td>1731721636000</td></tr><tr><td>dbfs:/FileStore/mini_project11/grad-students.csv</td><td>grad-students.csv</td><td>33249</td><td>1731726214000</td></tr><tr><td>dbfs:/FileStore/mini_project11/match_data_vg157.csv</td><td>match_data_vg157.csv</td><td>21445</td><td>1731725165000</td></tr><tr><td>dbfs:/FileStore/mini_project11/serve_times.csv</td><td>serve_times.csv</td><td>6472</td><td>1731522969000</td></tr></tbody></table></div>"
      ]
     },
     "metadata": {
      "application/vnd.databricks.v1+output": {
       "addedWidgets": {},
       "aggData": [],
       "aggError": "",
       "aggOverflow": false,
       "aggSchema": [],
       "aggSeriesLimitReached": false,
       "aggType": "",
       "arguments": {},
       "columnCustomDisplayInfos": {},
       "data": [
        [
         "dbfs:/FileStore/mini_project11/Impact_of_Remote_Work_on_Mental_Health.csv",
         "Impact_of_Remote_Work_on_Mental_Health.csv",
         598566,
         1731686709000
        ],
        [
         "dbfs:/FileStore/mini_project11/WRRankingsWeek5.csv",
         "WRRankingsWeek5.csv",
         10025,
         1731723705000
        ],
        [
         "dbfs:/FileStore/mini_project11/ds_salaries.csv",
         "ds_salaries.csv",
         210076,
         1731709340000
        ],
        [
         "dbfs:/FileStore/mini_project11/event_times.csv",
         "event_times.csv",
         6185,
         1731522970000
        ],
        [
         "dbfs:/FileStore/mini_project11/extract_test_dbfs",
         "extract_test_dbfs",
         17,
         1731721636000
        ],
        [
         "dbfs:/FileStore/mini_project11/grad-students.csv",
         "grad-students.csv",
         33249,
         1731726214000
        ],
        [
         "dbfs:/FileStore/mini_project11/match_data_vg157.csv",
         "match_data_vg157.csv",
         21445,
         1731725165000
        ],
        [
         "dbfs:/FileStore/mini_project11/serve_times.csv",
         "serve_times.csv",
         6472,
         1731522969000
        ]
       ],
       "datasetInfos": [],
       "dbfsResultPath": null,
       "isJsonSchema": true,
       "metadata": {},
       "overflow": false,
       "plotOptions": {
        "customPlotOptions": {},
        "displayType": "table",
        "pivotAggregation": null,
        "pivotColumns": null,
        "xColumns": null,
        "yColumns": null
       },
       "removedWidgets": [],
       "schema": [
        {
         "metadata": "{}",
         "name": "path",
         "type": "\"string\""
        },
        {
         "metadata": "{}",
         "name": "name",
         "type": "\"string\""
        },
        {
         "metadata": "{}",
         "name": "size",
         "type": "\"long\""
        },
        {
         "metadata": "{}",
         "name": "modificationTime",
         "type": "\"long\""
        }
       ],
       "type": "table"
      }
     },
     "output_type": "display_data"
    }
   ],
   "source": [
    "display(dbutils.fs.ls(\"dbfs:/FileStore/mini_project11/\"))"
   ]
  },
  {
   "cell_type": "code",
   "execution_count": 0,
   "metadata": {
    "application/vnd.databricks.v1+cell": {
     "cellMetadata": {
      "byteLimit": 2048000,
      "rowLimit": 10000
     },
     "inputWidgets": {},
     "nuid": "e068c5b7-d9ae-4691-b27c-1cc81772db9a",
     "showTitle": false,
     "tableResultSettingsMap": {},
     "title": ""
    }
   },
   "outputs": [],
   "source": [
    "from pyspark.sql import SparkSession\n",
    "\n",
    "def load(dataset=\"dbfs:/FileStore/mini_project11/grad-students.csv\"):\n",
    "    # Initialize Spark session\n",
    "    spark = SparkSession.builder.appName(\"grade_student\").getOrCreate()\n",
    "\n",
    "    # Read the dataset from DBFS\n",
    "    spark_df = spark.read.csv(dataset, header=True, inferSchema=True)\n",
    "    print(f\"Dataset loaded from {dataset}\")\n",
    "\n",
    "    # Drop the Delta table if it exists, when I don't use \"overwrite\"\n",
    "    spark.sql(\"DROP TABLE IF EXISTS grade_student_delta\")\n",
    "\n",
    "    # Write the Spark DataFrame to a Delta table\n",
    "    spark_df.write.format(\"delta\").mode(\"overwrite\").saveAsTable(\"grade_student_delta\")\n",
    "    print(\"Data successfully written to Delta table 'grade_student_delta'\")\n",
    "\n",
    "    if spark.catalog.tableExists(\"grade_student_delta\"):\n",
    "      print(\"Table exists. Proceeding with overwrite.\")\n",
    "    else:\n",
    "      print(\"Table does not exist. Creating a new one.\")\n",
    "      \n",
    "    # Print the number of rows in the DataFrame\n",
    "    nrows = spark_df.count()\n",
    "    print(f\"Number of rows in the dataset: {nrows}\")\n",
    "\n"
   ]
  },
  {
   "cell_type": "code",
   "execution_count": 0,
   "metadata": {
    "application/vnd.databricks.v1+cell": {
     "cellMetadata": {
      "byteLimit": 2048000,
      "rowLimit": 10000
     },
     "inputWidgets": {},
     "nuid": "dd9f8392-316c-4c43-8bcd-a6b469e0925e",
     "showTitle": false,
     "tableResultSettingsMap": {},
     "title": ""
    }
   },
   "outputs": [
    {
     "output_type": "stream",
     "name": "stdout",
     "output_type": "stream",
     "text": [
      "Dataset loaded from dbfs:/FileStore/mini_project11/grad-students.csv\nData successfully written to Delta table 'grade_student_delta'\nTable exists. Proceeding with overwrite.\nNumber of rows in the dataset: 173\n"
     ]
    }
   ],
   "source": [
    "load()"
   ]
  },
  {
   "cell_type": "code",
   "execution_count": 0,
   "metadata": {
    "application/vnd.databricks.v1+cell": {
     "cellMetadata": {
      "byteLimit": 2048000,
      "rowLimit": 10000
     },
     "inputWidgets": {},
     "nuid": "e6551535-6d21-4174-ae9e-eedc902d349b",
     "showTitle": false,
     "tableResultSettingsMap": {},
     "title": ""
    }
   },
   "outputs": [
    {
     "output_type": "stream",
     "name": "stdout",
     "output_type": "stream",
     "text": [
      "Table 'grade_student_delta' updated successfully.\n"
     ]
    }
   ],
   "source": [
    "def data_transform(table=\"grade_student_delta\"):\n",
    "    # Initialize Spark session\n",
    "    spark = SparkSession.builder.appName(\"grade_student\").getOrCreate()\n",
    "\n",
    "    # Define STEM categories\n",
    "    core_STEM = [\n",
    "        'Engineering',\n",
    "        'Computers & Mathematics',\n",
    "        'Biology & Life Science',\n",
    "        'Physical Sciences'\n",
    "    ]\n",
    "\n",
    "    other_STEM = [\n",
    "        'Agriculture & Natural Resources',\n",
    "        'Health',\n",
    "        'Interdisciplinary'\n",
    "    ]\n",
    "    \n",
    "    # Load the table into a DataFrame\n",
    "    sparktable = spark.table(table)\n",
    "    \n",
    "    # Add the \"STEM_major\" column based on conditions\n",
    "    sparktable = sparktable.withColumn(\n",
    "        \"STEM_major\",\n",
    "        when(col(\"Major_category\").isin(core_STEM), \"core_STEM\")\n",
    "        .when(col(\"Major_category\").isin(other_STEM), \"other_STEM\")\n",
    "        .otherwise(\"Other\")\n",
    "    )\n",
    "\n",
    "    # Overwrite the Delta table with schema evolution\n",
    "    sparktable.write.format(\"delta\") \\\n",
    "        .mode(\"overwrite\") \\\n",
    "        .option(\"mergeSchema\", \"true\") \\\n",
    "        .saveAsTable(table)\n",
    "    print(f\"Table '{table}' updated successfully.\")\n",
    "\n",
    "# Call the function\n",
    "data_transform()\n"
   ]
  },
  {
   "cell_type": "code",
   "execution_count": 0,
   "metadata": {
    "application/vnd.databricks.v1+cell": {
     "cellMetadata": {
      "byteLimit": 2048000,
      "rowLimit": 10000
     },
     "inputWidgets": {},
     "nuid": "44aaabb1-b609-4667-b2c0-be0ebf1288e6",
     "showTitle": false,
     "tableResultSettingsMap": {},
     "title": ""
    }
   },
   "outputs": [
    {
     "output_type": "stream",
     "name": "stdout",
     "output_type": "stream",
     "text": [
      "Table 'grade_student_delta' updated successfully.\n"
     ]
    }
   ],
   "source": [
    "data_transform()"
   ]
  },
  {
   "cell_type": "code",
   "execution_count": 0,
   "metadata": {
    "application/vnd.databricks.v1+cell": {
     "cellMetadata": {
      "byteLimit": 2048000,
      "rowLimit": 10000
     },
     "inputWidgets": {},
     "nuid": "d2777dc6-a4e9-459f-9f98-1900e5e4c1df",
     "showTitle": false,
     "tableResultSettingsMap": {},
     "title": ""
    }
   },
   "outputs": [
    {
     "output_type": "stream",
     "name": "stdout",
     "output_type": "stream",
     "text": [
      "+--------------------+----------------------+-------------------+---------------------+------------------------+----------------+-------------------+\n|      Major_category|Total_Nongrad_employed|Total_Grad_employed|Total_Grad_unemployed|Total_Nongrad_unemployed|Total_Grad_total|Total_Nongrad_total|\n+--------------------+----------------------+-------------------+---------------------+------------------------+----------------+-------------------+\n|            Business|               7123852|            2124495|               101994|                  393222|         2718897|            9345634|\n|           Education|               2659824|            2437166|                66938|                  111875|         3945300|            4488291|\n|Humanities & Libe...|               2289696|            1986572|                85033|                  154239|         2825975|            3448921|\n|         Engineering|               2483802|            1634563|                65073|                  132162|         2132524|            3382085|\n|              Health|               2058011|            1148800|                25962|                   63621|         1468337|            2768323|\n|      Social Science|               1720445|            1381570|                60528|                  111390|         1839710|            2439689|\n|Psychology & Soci...|               1271014|            1255928|                49428|                   87224|         1630545|            1795602|\n|Biology & Life Sc...|                831399|            1365336|                32022|                   44656|         1656556|            1145597|\n|Computers & Mathe...|               1332370|             716607|                29062|                   70960|          919817|            1676169|\n|Communications & ...|               1285961|             368390|                17733|                   86476|          462880|            1635679|\n|                Arts|               1194452|             422450|                24559|                   88900|          580416|            1657523|\n|   Physical Sciences|                656340|             770365|                24030|                   34404|         1052485|             952098|\n|Industrial Arts &...|                680035|             239338|                 8983|                   33771|          317219|             939696|\n| Law & Public Policy|                664417|             224832|                10011|                   36224|          280852|             831050|\n|Agriculture & Nat...|                453541|             179287|                 4995|                   16437|          241342|             599239|\n|   Interdisciplinary|                 32600|              12708|                  261|                    2573|           14405|              41018|\n+--------------------+----------------------+-------------------+---------------------+------------------------+----------------+-------------------+\n\n"
     ]
    }
   ],
   "source": [
    "spark = SparkSession.builder.appName(\"grade_student\").getOrCreate()\n",
    "\n",
    "query_sample =\"\"\"\n",
    "            SELECT \n",
    "                Major_category,\n",
    "                SUM(Nongrad_employed) AS Total_Nongrad_employed,\n",
    "                SUM(Grad_employed) AS Total_Grad_employed,\n",
    "                SUM(Grad_unemployed) AS Total_Grad_unemployed,\n",
    "                SUM(Nongrad_unemployed) AS Total_Nongrad_unemployed,\n",
    "                SUM(Grad_total) AS Total_Grad_total,\n",
    "                SUM(Nongrad_total) AS Total_Nongrad_total\n",
    "            FROM grade_student_delta\n",
    "            GROUP BY Major_category\n",
    "            HAVING Total_Grad_employed + Total_Nongrad_employed > 10000\n",
    "            ORDER BY Total_Grad_employed + Total_Nongrad_employed DESC\n",
    "        \"\"\"\n",
    "\n",
    "query_result=spark.sql(query_sample)\n",
    "\n",
    "query_result.show()"
   ]
  },
  {
   "cell_type": "code",
   "execution_count": 0,
   "metadata": {
    "application/vnd.databricks.v1+cell": {
     "cellMetadata": {
      "byteLimit": 2048000,
      "rowLimit": 10000
     },
     "inputWidgets": {},
     "nuid": "4852afbb-ac38-4478-b068-f2d460cb97ce",
     "showTitle": false,
     "tableResultSettingsMap": {},
     "title": ""
    }
   },
   "outputs": [
    {
     "output_type": "stream",
     "name": "stdout",
     "output_type": "stream",
     "text": [
      "+----------+--------------------+--------------------+----------+----------------+-------------+-------------------------+---------------+----------------------+-----------+--------+--------+-------------+----------------+----------------------------+------------------+-------------------------+--------------+-----------+-----------+-----------+------------+----------+\n|Major_code|               Major|      Major_category|Grad_total|Grad_sample_size|Grad_employed|Grad_full_time_year_round|Grad_unemployed|Grad_unemployment_rate|Grad_median|Grad_P25|Grad_P75|Nongrad_total|Nongrad_employed|Nongrad_full_time_year_round|Nongrad_unemployed|Nongrad_unemployment_rate|Nongrad_median|Nongrad_P25|Nongrad_P75| Grad_share|Grad_premium|STEM_major|\n+----------+--------------------+--------------------+----------+----------------+-------------+-------------------------+---------------+----------------------+-----------+--------+--------+-------------+----------------+----------------------------+------------------+-------------------------+--------------+-----------+-----------+-----------+------------+----------+\n|      5601|CONSTRUCTION SERV...|Industrial Arts &...|      9173|             200|         7098|                     6511|            681|           0.087543386|    75000.0|   53000|110000.0|        86062|           73607|                       62435|              3928|              0.050660992|       65000.0|      47000|    98000.0| 0.09631963| 0.153846154|     Other|\n|      6004|COMMERCIAL ART AN...|                Arts|     53864|             882|        40492|                    29553|           2482|           0.057755852|    60000.0|   40000| 89000.0|       461977|          347166|                      250596|             25484|              0.068385885|       48000.0|      34000|    71000.0|0.104419773|        0.25|     Other|\n|      6211|HOSPITALITY MANAG...|            Business|     24417|             437|        18368|                    14784|           1465|           0.073866788|    65000.0|   45000|100000.0|       179335|          145597|                      113579|              7409|              0.048422938|       50000.0|      35000|    75000.0| 0.11983686|         0.3|     Other|\n|      2201|COSMETOLOGY SERVI...|Industrial Arts &...|      5411|              72|         3590|                     2701|            316|           0.080901178|    47000.0|   24500| 85000.0|        37575|           29738|                       23249|              1661|              0.052899774|       41600.0|      29000|    60000.0|0.125878193| 0.129807692|     Other|\n|      2001|COMMUNICATION TEC...|Computers & Mathe...|      9109|             171|         7512|                     5622|            466|           0.058410629|    57000.0|   40600| 83700.0|        53819|           43163|                       34231|              3389|              0.072800309|       52000.0|      36000|    78000.0|0.144752733| 0.096153846| core_STEM|\n|      3201|     COURT REPORTING| Law & Public Policy|      1542|              22|         1008|                      860|              0|                   0.0|    75000.0|   55000|120000.0|         8921|            6967|                        6063|               518|              0.069205077|       50000.0|      34000|    75000.0|0.147376469|         0.5|     Other|\n|      6206|MARKETING AND MAR...|            Business|    190996|            3738|       151570|                   123045|           8324|           0.052059489|    80000.0|   50000|120000.0|      1029181|          817906|                      662346|             45519|              0.052719113|       60000.0|      40000|    91500.0|0.156531388| 0.333333333|     Other|\n|      1101|AGRICULTURE PRODU...|Agriculture & Nat...|     17488|             386|        13104|                    11207|            473|            0.03483833|    67000.0|   41600|100000.0|        89169|           71781|                       61335|              1869|              0.025376782|       55000.0|      38000|    80000.0|0.163964859| 0.218181818|other_STEM|\n|      2101|COMPUTER PROGRAMM...|Computers & Mathe...|      5611|              98|         4716|                     3981|            119|           0.024612203|    85000.0|   56000|114000.0|        28314|           22024|                       18381|              2222|              0.091643983|       60000.0|      40000|    85000.0|0.165394252| 0.416666667| core_STEM|\n|      1904|ADVERTISING AND P...|Communications & ...|     33928|             688|        28517|                    22523|            899|           0.030561599|    60000.0|   43000| 90000.0|       163435|          127832|                      100330|              8706|              0.063762469|       51000.0|      37800|    78000.0|0.171906588| 0.176470588|     Other|\n|      6005|FILM VIDEO AND PH...|                Arts|     24525|             370|        19059|                    13301|           2035|           0.096472931|    57000.0|   40000| 80000.0|       116158|           93915|                       63674|              8160|               0.07994122|       50000.0|      32000|    75000.0|0.174328099|        0.14|     Other|\n|      5701|ELECTRICAL, MECHA...|Industrial Arts &...|      3187|              45|         1984|                     1481|            319|            0.13851498|    62000.0|   40000|100000.0|        14842|           11921|                        9949|               653|              0.051932559|       50000.0|      32400|    75000.0|0.176770758|        0.24|     Other|\n|      2504|MECHANICAL ENGINE...|         Engineering|      6065|             111|         4442|                     3669|            310|            0.06523569|    78000.0|   50000|103000.0|        27999|           23069|                       20418|               998|               0.04146757|       61000.0|      42000|    85000.0|0.178047205| 0.278688525| core_STEM|\n|      1903|          MASS MEDIA|Communications & ...|     42915|             828|        35939|                    28054|           1957|           0.051641334|    57000.0|   41000| 90000.0|       190020|          153722|                      117581|             12816|               0.07695541|       50000.0|      35000|    72000.0|0.184235946|        0.14|     Other|\n|      5901|TRANSPORTATION SC...|Industrial Arts &...|     27410|             538|        20035|                    18088|            980|           0.046633357|    90000.0|   62000|124000.0|       121260|           94538|                       80650|              4326|               0.04375708|       69000.0|      45000|   100000.0|0.184368063| 0.304347826|     Other|\n|      2107|COMPUTER NETWORKI...|Computers & Mathe...|     11165|             218|         9037|                     7988|            803|           0.081605691|    80000.0|   54000|110000.0|        48776|           41552|                       34402|              2476|               0.05623694|       58000.0|      37700|    84000.0|0.186266495| 0.379310345| core_STEM|\n|      6299|MISCELLANEOUS BUS...|            Business|     22553|             408|        17691|                    14807|            865|            0.04661565|    75000.0|   47000|106000.0|        95860|           72005|                       58441|              3694|              0.048798531|       55000.0|      38000|    85000.0|0.190460507| 0.363636364|     Other|\n|      2599|MISCELLANEOUS ENG...|         Engineering|     14816|             315|        12433|                    11146|            407|           0.031697819|    80000.0|   54000|105000.0|        60571|           50092|                       44199|              3316|              0.062088077|       65000.0|      43000|    90000.0|0.196532559| 0.230769231| core_STEM|\n|      2503|INDUSTRIAL PRODUC...|         Engineering|     19885|             408|        14752|                    12467|            603|           0.039270596|    84500.0|   60000|111000.0|        81076|           64389|                       56559|              3431|              0.050589797|       70000.0|      48000|    99000.0|0.196957241| 0.207142857| core_STEM|\n|      6099|MISCELLANEOUS FIN...|                Arts|      1733|              27|         1100|                      770|             44|           0.038461538|    55000.0|   40000| 76000.0|         7044|            5220|                        3556|              1001|              0.160906607|       46000.0|      30000|    60000.0|0.197447875| 0.195652174|     Other|\n+----------+--------------------+--------------------+----------+----------------+-------------+-------------------------+---------------+----------------------+-----------+--------+--------+-------------+----------------+----------------------------+------------------+-------------------------+--------------+-----------+-----------+-----------+------------+----------+\nonly showing top 20 rows\n\n"
     ]
    }
   ],
   "source": [
    "# Write a SQL query to the file\n",
    "with open(\"sample_query.sql\", \"w\") as file:\n",
    "    file.write(\"SELECT * FROM grade_student_delta\")\n",
    "\n",
    "# Read the query from the file and execute it\n",
    "with open(\"sample_query.sql\", \"r\") as file:\n",
    "    sql_query = file.read()\n",
    "\n",
    "query_result = spark.sql(sql_query)\n",
    "query_result.show()\n"
   ]
  }
 ],
 "metadata": {
  "application/vnd.databricks.v1+notebook": {
   "dashboards": [],
   "environmentMetadata": {
    "base_environment": "",
    "client": "1"
   },
   "language": "python",
   "notebookMetadata": {
    "pythonIndentUnit": 2
   },
   "notebookName": "extract_test_dbfs",
   "widgets": {}
  },
  "language_info": {
   "name": "python"
  }
 },
 "nbformat": 4,
 "nbformat_minor": 0
}
